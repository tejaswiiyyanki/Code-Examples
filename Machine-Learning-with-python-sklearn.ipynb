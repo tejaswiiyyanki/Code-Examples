{
 "cells": [
  {
   "cell_type": "markdown",
   "metadata": {},
   "source": [
    "# Machine Learning method to find patient segments within RNAseq features of breast cancer patients"
   ]
  },
  {
   "cell_type": "markdown",
   "metadata": {},
   "source": [
    "### Import all relevant libraries"
   ]
  },
  {
   "cell_type": "code",
   "execution_count": 28,
   "metadata": {},
   "outputs": [],
   "source": [
    "import pandas as pd\n",
    "import matplotlib.gridspec as gridspec\n",
    "import scipy.spatial.distance as distance\n",
    "import scipy.cluster.hierarchy as sch\n",
    "import matplotlib.pyplot as plt\n",
    "import numpy as np\n",
    "from pandas import DataFrame as df\n",
    "# DEFINE MY OWN CMAP = Rd-Black-Gy\n",
    "import matplotlib.colors as mcolors\n",
    "cdict={'red': ((0.0,0.0,0.0),(0.5,0.0,0.0),(1.0,1.0,1.0)),\n",
    "        'blue': ((0.0,0.0,0.0),(1.0,0.0,0.0)),\n",
    "        'green': ((0.0,0.0,1.0),(0.5,0.0,0.0),(1.0,0,0))}\n",
    "\n",
    "cmap1=mcolors.LinearSegmentedColormap('my_colormap',cdict,100)"
   ]
  },
  {
   "cell_type": "markdown",
   "metadata": {},
   "source": [
    "### Input all data"
   ]
  },
  {
   "cell_type": "code",
   "execution_count": 77,
   "metadata": {},
   "outputs": [
    {
     "data": {
      "text/html": [
       "<div>\n",
       "<style scoped>\n",
       "    .dataframe tbody tr th:only-of-type {\n",
       "        vertical-align: middle;\n",
       "    }\n",
       "\n",
       "    .dataframe tbody tr th {\n",
       "        vertical-align: top;\n",
       "    }\n",
       "\n",
       "    .dataframe thead th {\n",
       "        text-align: right;\n",
       "    }\n",
       "</style>\n",
       "<table border=\"1\" class=\"dataframe\">\n",
       "  <thead>\n",
       "    <tr style=\"text-align: right;\">\n",
       "      <th></th>\n",
       "      <th>TCGA.BH.A0W3.01A.11R.A109.07</th>\n",
       "      <th>TCGA.A8.A07F.01A.11R.A00Z.07</th>\n",
       "      <th>TCGA.GM.A3XL.01A.11R.A22U.07</th>\n",
       "      <th>TCGA.LL.A441.01A.11R.A24H.07</th>\n",
       "      <th>TCGA.BH.A0HP.01A.12R.A084.07</th>\n",
       "      <th>TCGA.D8.A1Y1.01A.21R.A14M.07</th>\n",
       "      <th>TCGA.AO.A12A.01A.21R.A115.07</th>\n",
       "      <th>TCGA.AN.A0XN.01A.21R.A109.07</th>\n",
       "      <th>TCGA.PE.A5DE.01A.11R.A27Q.07</th>\n",
       "      <th>TCGA.A8.A075.01A.11R.A084.07</th>\n",
       "      <th>...</th>\n",
       "      <th>TCGA.E2.A1B0.01A.11R.A12P.07</th>\n",
       "      <th>TCGA.A8.A08J.01A.11R.A00Z.07</th>\n",
       "      <th>TCGA.S3.AA11.01A.31R.A41B.07</th>\n",
       "      <th>TCGA.BH.A0DE.01A.11R.A115.07</th>\n",
       "      <th>TCGA.BH.A1FM.01A.11R.A13Q.07</th>\n",
       "      <th>TCGA.PL.A8LV.01A.21R.A41B.07</th>\n",
       "      <th>TCGA.A2.A4RX.01A.11R.A266.07</th>\n",
       "      <th>TCGA.E9.A243.01A.21R.A169.07</th>\n",
       "      <th>TCGA.A8.A07E.01A.11R.A034.07</th>\n",
       "      <th>TCGA.E9.A228.01A.31R.A157.07</th>\n",
       "    </tr>\n",
       "  </thead>\n",
       "  <tbody>\n",
       "    <tr>\n",
       "      <th>SCGB2A2</th>\n",
       "      <td>7.995579</td>\n",
       "      <td>6.437159</td>\n",
       "      <td>0.588185</td>\n",
       "      <td>7.240104</td>\n",
       "      <td>12.160156</td>\n",
       "      <td>6.277967</td>\n",
       "      <td>4.936269</td>\n",
       "      <td>8.807030</td>\n",
       "      <td>10.622958</td>\n",
       "      <td>7.138458</td>\n",
       "      <td>...</td>\n",
       "      <td>11.033707</td>\n",
       "      <td>8.080825</td>\n",
       "      <td>3.467670</td>\n",
       "      <td>9.705156</td>\n",
       "      <td>1.040158</td>\n",
       "      <td>1.366776</td>\n",
       "      <td>1.422622</td>\n",
       "      <td>0.071430</td>\n",
       "      <td>4.058771</td>\n",
       "      <td>0.254701</td>\n",
       "    </tr>\n",
       "    <tr>\n",
       "      <th>SCGB1D2</th>\n",
       "      <td>6.650415</td>\n",
       "      <td>5.677596</td>\n",
       "      <td>1.098930</td>\n",
       "      <td>6.085620</td>\n",
       "      <td>11.418619</td>\n",
       "      <td>5.049693</td>\n",
       "      <td>4.947067</td>\n",
       "      <td>6.952681</td>\n",
       "      <td>8.917318</td>\n",
       "      <td>5.694037</td>\n",
       "      <td>...</td>\n",
       "      <td>7.511125</td>\n",
       "      <td>7.715853</td>\n",
       "      <td>2.733740</td>\n",
       "      <td>7.258169</td>\n",
       "      <td>1.080194</td>\n",
       "      <td>1.010610</td>\n",
       "      <td>0.682176</td>\n",
       "      <td>0.014231</td>\n",
       "      <td>2.881080</td>\n",
       "      <td>1.276865</td>\n",
       "    </tr>\n",
       "    <tr>\n",
       "      <th>TFF1</th>\n",
       "      <td>8.889143</td>\n",
       "      <td>7.580828</td>\n",
       "      <td>1.051410</td>\n",
       "      <td>2.678933</td>\n",
       "      <td>5.808478</td>\n",
       "      <td>6.819601</td>\n",
       "      <td>8.007576</td>\n",
       "      <td>1.809403</td>\n",
       "      <td>9.894923</td>\n",
       "      <td>8.345406</td>\n",
       "      <td>...</td>\n",
       "      <td>0.303680</td>\n",
       "      <td>3.678954</td>\n",
       "      <td>8.659648</td>\n",
       "      <td>8.416123</td>\n",
       "      <td>3.840113</td>\n",
       "      <td>1.581678</td>\n",
       "      <td>2.432916</td>\n",
       "      <td>4.572109</td>\n",
       "      <td>7.663364</td>\n",
       "      <td>9.894923</td>\n",
       "    </tr>\n",
       "    <tr>\n",
       "      <th>PIP</th>\n",
       "      <td>9.894923</td>\n",
       "      <td>6.440065</td>\n",
       "      <td>5.065625</td>\n",
       "      <td>6.440065</td>\n",
       "      <td>9.279767</td>\n",
       "      <td>8.530492</td>\n",
       "      <td>8.707173</td>\n",
       "      <td>3.432688</td>\n",
       "      <td>5.364195</td>\n",
       "      <td>4.167533</td>\n",
       "      <td>...</td>\n",
       "      <td>1.956252</td>\n",
       "      <td>3.109031</td>\n",
       "      <td>6.085620</td>\n",
       "      <td>7.961493</td>\n",
       "      <td>2.850932</td>\n",
       "      <td>2.059863</td>\n",
       "      <td>3.522624</td>\n",
       "      <td>7.697993</td>\n",
       "      <td>5.841955</td>\n",
       "      <td>0.440105</td>\n",
       "    </tr>\n",
       "    <tr>\n",
       "      <th>CPB1</th>\n",
       "      <td>2.886600</td>\n",
       "      <td>0.315127</td>\n",
       "      <td>0.052862</td>\n",
       "      <td>1.428191</td>\n",
       "      <td>0.376981</td>\n",
       "      <td>0.178075</td>\n",
       "      <td>2.254173</td>\n",
       "      <td>0.095700</td>\n",
       "      <td>0.003478</td>\n",
       "      <td>2.264022</td>\n",
       "      <td>...</td>\n",
       "      <td>0.081904</td>\n",
       "      <td>10.235505</td>\n",
       "      <td>0.284350</td>\n",
       "      <td>3.681831</td>\n",
       "      <td>3.365267</td>\n",
       "      <td>0.078476</td>\n",
       "      <td>0.308187</td>\n",
       "      <td>0.272251</td>\n",
       "      <td>0.153975</td>\n",
       "      <td>11.418619</td>\n",
       "    </tr>\n",
       "  </tbody>\n",
       "</table>\n",
       "<p>5 rows × 1102 columns</p>\n",
       "</div>"
      ],
      "text/plain": [
       "         TCGA.BH.A0W3.01A.11R.A109.07  TCGA.A8.A07F.01A.11R.A00Z.07  \\\n",
       "SCGB2A2                      7.995579                      6.437159   \n",
       "SCGB1D2                      6.650415                      5.677596   \n",
       "TFF1                         8.889143                      7.580828   \n",
       "PIP                          9.894923                      6.440065   \n",
       "CPB1                         2.886600                      0.315127   \n",
       "\n",
       "         TCGA.GM.A3XL.01A.11R.A22U.07  TCGA.LL.A441.01A.11R.A24H.07  \\\n",
       "SCGB2A2                      0.588185                      7.240104   \n",
       "SCGB1D2                      1.098930                      6.085620   \n",
       "TFF1                         1.051410                      2.678933   \n",
       "PIP                          5.065625                      6.440065   \n",
       "CPB1                         0.052862                      1.428191   \n",
       "\n",
       "         TCGA.BH.A0HP.01A.12R.A084.07  TCGA.D8.A1Y1.01A.21R.A14M.07  \\\n",
       "SCGB2A2                     12.160156                      6.277967   \n",
       "SCGB1D2                     11.418619                      5.049693   \n",
       "TFF1                         5.808478                      6.819601   \n",
       "PIP                          9.279767                      8.530492   \n",
       "CPB1                         0.376981                      0.178075   \n",
       "\n",
       "         TCGA.AO.A12A.01A.21R.A115.07  TCGA.AN.A0XN.01A.21R.A109.07  \\\n",
       "SCGB2A2                      4.936269                      8.807030   \n",
       "SCGB1D2                      4.947067                      6.952681   \n",
       "TFF1                         8.007576                      1.809403   \n",
       "PIP                          8.707173                      3.432688   \n",
       "CPB1                         2.254173                      0.095700   \n",
       "\n",
       "         TCGA.PE.A5DE.01A.11R.A27Q.07  TCGA.A8.A075.01A.11R.A084.07  ...  \\\n",
       "SCGB2A2                     10.622958                      7.138458  ...   \n",
       "SCGB1D2                      8.917318                      5.694037  ...   \n",
       "TFF1                         9.894923                      8.345406  ...   \n",
       "PIP                          5.364195                      4.167533  ...   \n",
       "CPB1                         0.003478                      2.264022  ...   \n",
       "\n",
       "         TCGA.E2.A1B0.01A.11R.A12P.07  TCGA.A8.A08J.01A.11R.A00Z.07  \\\n",
       "SCGB2A2                     11.033707                      8.080825   \n",
       "SCGB1D2                      7.511125                      7.715853   \n",
       "TFF1                         0.303680                      3.678954   \n",
       "PIP                          1.956252                      3.109031   \n",
       "CPB1                         0.081904                     10.235505   \n",
       "\n",
       "         TCGA.S3.AA11.01A.31R.A41B.07  TCGA.BH.A0DE.01A.11R.A115.07  \\\n",
       "SCGB2A2                      3.467670                      9.705156   \n",
       "SCGB1D2                      2.733740                      7.258169   \n",
       "TFF1                         8.659648                      8.416123   \n",
       "PIP                          6.085620                      7.961493   \n",
       "CPB1                         0.284350                      3.681831   \n",
       "\n",
       "         TCGA.BH.A1FM.01A.11R.A13Q.07  TCGA.PL.A8LV.01A.21R.A41B.07  \\\n",
       "SCGB2A2                      1.040158                      1.366776   \n",
       "SCGB1D2                      1.080194                      1.010610   \n",
       "TFF1                         3.840113                      1.581678   \n",
       "PIP                          2.850932                      2.059863   \n",
       "CPB1                         3.365267                      0.078476   \n",
       "\n",
       "         TCGA.A2.A4RX.01A.11R.A266.07  TCGA.E9.A243.01A.21R.A169.07  \\\n",
       "SCGB2A2                      1.422622                      0.071430   \n",
       "SCGB1D2                      0.682176                      0.014231   \n",
       "TFF1                         2.432916                      4.572109   \n",
       "PIP                          3.522624                      7.697993   \n",
       "CPB1                         0.308187                      0.272251   \n",
       "\n",
       "         TCGA.A8.A07E.01A.11R.A034.07  TCGA.E9.A228.01A.31R.A157.07  \n",
       "SCGB2A2                      4.058771                      0.254701  \n",
       "SCGB1D2                      2.881080                      1.276865  \n",
       "TFF1                         7.663364                      9.894923  \n",
       "PIP                          5.841955                      0.440105  \n",
       "CPB1                         0.153975                     11.418619  \n",
       "\n",
       "[5 rows x 1102 columns]"
      ]
     },
     "execution_count": 77,
     "metadata": {},
     "output_type": "execute_result"
    }
   ],
   "source": [
    "f=pd.read_csv('../TCGA_BRCA_Tumor_RSEM_GeneExp_filtered_log2.tsv',index_col=0,sep='\\t')\n",
    "f.head()"
   ]
  },
  {
   "cell_type": "markdown",
   "metadata": {},
   "source": [
    "**We are now changing the delimiter structure of column names from \".\" to \"-\"**"
   ]
  },
  {
   "cell_type": "code",
   "execution_count": 78,
   "metadata": {},
   "outputs": [
    {
     "data": {
      "text/html": [
       "<div>\n",
       "<style scoped>\n",
       "    .dataframe tbody tr th:only-of-type {\n",
       "        vertical-align: middle;\n",
       "    }\n",
       "\n",
       "    .dataframe tbody tr th {\n",
       "        vertical-align: top;\n",
       "    }\n",
       "\n",
       "    .dataframe thead th {\n",
       "        text-align: right;\n",
       "    }\n",
       "</style>\n",
       "<table border=\"1\" class=\"dataframe\">\n",
       "  <thead>\n",
       "    <tr style=\"text-align: right;\">\n",
       "      <th></th>\n",
       "      <th>TCGA-BH-A0W3-01A-11R-A109-07</th>\n",
       "      <th>TCGA-A8-A07F-01A-11R-A00Z-07</th>\n",
       "      <th>TCGA-GM-A3XL-01A-11R-A22U-07</th>\n",
       "      <th>TCGA-LL-A441-01A-11R-A24H-07</th>\n",
       "      <th>TCGA-BH-A0HP-01A-12R-A084-07</th>\n",
       "      <th>TCGA-D8-A1Y1-01A-21R-A14M-07</th>\n",
       "      <th>TCGA-AO-A12A-01A-21R-A115-07</th>\n",
       "      <th>TCGA-AN-A0XN-01A-21R-A109-07</th>\n",
       "      <th>TCGA-PE-A5DE-01A-11R-A27Q-07</th>\n",
       "      <th>TCGA-A8-A075-01A-11R-A084-07</th>\n",
       "      <th>...</th>\n",
       "      <th>TCGA-E2-A1B0-01A-11R-A12P-07</th>\n",
       "      <th>TCGA-A8-A08J-01A-11R-A00Z-07</th>\n",
       "      <th>TCGA-S3-AA11-01A-31R-A41B-07</th>\n",
       "      <th>TCGA-BH-A0DE-01A-11R-A115-07</th>\n",
       "      <th>TCGA-BH-A1FM-01A-11R-A13Q-07</th>\n",
       "      <th>TCGA-PL-A8LV-01A-21R-A41B-07</th>\n",
       "      <th>TCGA-A2-A4RX-01A-11R-A266-07</th>\n",
       "      <th>TCGA-E9-A243-01A-21R-A169-07</th>\n",
       "      <th>TCGA-A8-A07E-01A-11R-A034-07</th>\n",
       "      <th>TCGA-E9-A228-01A-31R-A157-07</th>\n",
       "    </tr>\n",
       "  </thead>\n",
       "  <tbody>\n",
       "    <tr>\n",
       "      <th>SCGB2A2</th>\n",
       "      <td>7.995579</td>\n",
       "      <td>6.437159</td>\n",
       "      <td>0.588185</td>\n",
       "      <td>7.240104</td>\n",
       "      <td>12.160156</td>\n",
       "      <td>6.277967</td>\n",
       "      <td>4.936269</td>\n",
       "      <td>8.807030</td>\n",
       "      <td>10.622958</td>\n",
       "      <td>7.138458</td>\n",
       "      <td>...</td>\n",
       "      <td>11.033707</td>\n",
       "      <td>8.080825</td>\n",
       "      <td>3.467670</td>\n",
       "      <td>9.705156</td>\n",
       "      <td>1.040158</td>\n",
       "      <td>1.366776</td>\n",
       "      <td>1.422622</td>\n",
       "      <td>0.071430</td>\n",
       "      <td>4.058771</td>\n",
       "      <td>0.254701</td>\n",
       "    </tr>\n",
       "    <tr>\n",
       "      <th>SCGB1D2</th>\n",
       "      <td>6.650415</td>\n",
       "      <td>5.677596</td>\n",
       "      <td>1.098930</td>\n",
       "      <td>6.085620</td>\n",
       "      <td>11.418619</td>\n",
       "      <td>5.049693</td>\n",
       "      <td>4.947067</td>\n",
       "      <td>6.952681</td>\n",
       "      <td>8.917318</td>\n",
       "      <td>5.694037</td>\n",
       "      <td>...</td>\n",
       "      <td>7.511125</td>\n",
       "      <td>7.715853</td>\n",
       "      <td>2.733740</td>\n",
       "      <td>7.258169</td>\n",
       "      <td>1.080194</td>\n",
       "      <td>1.010610</td>\n",
       "      <td>0.682176</td>\n",
       "      <td>0.014231</td>\n",
       "      <td>2.881080</td>\n",
       "      <td>1.276865</td>\n",
       "    </tr>\n",
       "    <tr>\n",
       "      <th>TFF1</th>\n",
       "      <td>8.889143</td>\n",
       "      <td>7.580828</td>\n",
       "      <td>1.051410</td>\n",
       "      <td>2.678933</td>\n",
       "      <td>5.808478</td>\n",
       "      <td>6.819601</td>\n",
       "      <td>8.007576</td>\n",
       "      <td>1.809403</td>\n",
       "      <td>9.894923</td>\n",
       "      <td>8.345406</td>\n",
       "      <td>...</td>\n",
       "      <td>0.303680</td>\n",
       "      <td>3.678954</td>\n",
       "      <td>8.659648</td>\n",
       "      <td>8.416123</td>\n",
       "      <td>3.840113</td>\n",
       "      <td>1.581678</td>\n",
       "      <td>2.432916</td>\n",
       "      <td>4.572109</td>\n",
       "      <td>7.663364</td>\n",
       "      <td>9.894923</td>\n",
       "    </tr>\n",
       "    <tr>\n",
       "      <th>PIP</th>\n",
       "      <td>9.894923</td>\n",
       "      <td>6.440065</td>\n",
       "      <td>5.065625</td>\n",
       "      <td>6.440065</td>\n",
       "      <td>9.279767</td>\n",
       "      <td>8.530492</td>\n",
       "      <td>8.707173</td>\n",
       "      <td>3.432688</td>\n",
       "      <td>5.364195</td>\n",
       "      <td>4.167533</td>\n",
       "      <td>...</td>\n",
       "      <td>1.956252</td>\n",
       "      <td>3.109031</td>\n",
       "      <td>6.085620</td>\n",
       "      <td>7.961493</td>\n",
       "      <td>2.850932</td>\n",
       "      <td>2.059863</td>\n",
       "      <td>3.522624</td>\n",
       "      <td>7.697993</td>\n",
       "      <td>5.841955</td>\n",
       "      <td>0.440105</td>\n",
       "    </tr>\n",
       "    <tr>\n",
       "      <th>CPB1</th>\n",
       "      <td>2.886600</td>\n",
       "      <td>0.315127</td>\n",
       "      <td>0.052862</td>\n",
       "      <td>1.428191</td>\n",
       "      <td>0.376981</td>\n",
       "      <td>0.178075</td>\n",
       "      <td>2.254173</td>\n",
       "      <td>0.095700</td>\n",
       "      <td>0.003478</td>\n",
       "      <td>2.264022</td>\n",
       "      <td>...</td>\n",
       "      <td>0.081904</td>\n",
       "      <td>10.235505</td>\n",
       "      <td>0.284350</td>\n",
       "      <td>3.681831</td>\n",
       "      <td>3.365267</td>\n",
       "      <td>0.078476</td>\n",
       "      <td>0.308187</td>\n",
       "      <td>0.272251</td>\n",
       "      <td>0.153975</td>\n",
       "      <td>11.418619</td>\n",
       "    </tr>\n",
       "  </tbody>\n",
       "</table>\n",
       "<p>5 rows × 1102 columns</p>\n",
       "</div>"
      ],
      "text/plain": [
       "         TCGA-BH-A0W3-01A-11R-A109-07  TCGA-A8-A07F-01A-11R-A00Z-07  \\\n",
       "SCGB2A2                      7.995579                      6.437159   \n",
       "SCGB1D2                      6.650415                      5.677596   \n",
       "TFF1                         8.889143                      7.580828   \n",
       "PIP                          9.894923                      6.440065   \n",
       "CPB1                         2.886600                      0.315127   \n",
       "\n",
       "         TCGA-GM-A3XL-01A-11R-A22U-07  TCGA-LL-A441-01A-11R-A24H-07  \\\n",
       "SCGB2A2                      0.588185                      7.240104   \n",
       "SCGB1D2                      1.098930                      6.085620   \n",
       "TFF1                         1.051410                      2.678933   \n",
       "PIP                          5.065625                      6.440065   \n",
       "CPB1                         0.052862                      1.428191   \n",
       "\n",
       "         TCGA-BH-A0HP-01A-12R-A084-07  TCGA-D8-A1Y1-01A-21R-A14M-07  \\\n",
       "SCGB2A2                     12.160156                      6.277967   \n",
       "SCGB1D2                     11.418619                      5.049693   \n",
       "TFF1                         5.808478                      6.819601   \n",
       "PIP                          9.279767                      8.530492   \n",
       "CPB1                         0.376981                      0.178075   \n",
       "\n",
       "         TCGA-AO-A12A-01A-21R-A115-07  TCGA-AN-A0XN-01A-21R-A109-07  \\\n",
       "SCGB2A2                      4.936269                      8.807030   \n",
       "SCGB1D2                      4.947067                      6.952681   \n",
       "TFF1                         8.007576                      1.809403   \n",
       "PIP                          8.707173                      3.432688   \n",
       "CPB1                         2.254173                      0.095700   \n",
       "\n",
       "         TCGA-PE-A5DE-01A-11R-A27Q-07  TCGA-A8-A075-01A-11R-A084-07  ...  \\\n",
       "SCGB2A2                     10.622958                      7.138458  ...   \n",
       "SCGB1D2                      8.917318                      5.694037  ...   \n",
       "TFF1                         9.894923                      8.345406  ...   \n",
       "PIP                          5.364195                      4.167533  ...   \n",
       "CPB1                         0.003478                      2.264022  ...   \n",
       "\n",
       "         TCGA-E2-A1B0-01A-11R-A12P-07  TCGA-A8-A08J-01A-11R-A00Z-07  \\\n",
       "SCGB2A2                     11.033707                      8.080825   \n",
       "SCGB1D2                      7.511125                      7.715853   \n",
       "TFF1                         0.303680                      3.678954   \n",
       "PIP                          1.956252                      3.109031   \n",
       "CPB1                         0.081904                     10.235505   \n",
       "\n",
       "         TCGA-S3-AA11-01A-31R-A41B-07  TCGA-BH-A0DE-01A-11R-A115-07  \\\n",
       "SCGB2A2                      3.467670                      9.705156   \n",
       "SCGB1D2                      2.733740                      7.258169   \n",
       "TFF1                         8.659648                      8.416123   \n",
       "PIP                          6.085620                      7.961493   \n",
       "CPB1                         0.284350                      3.681831   \n",
       "\n",
       "         TCGA-BH-A1FM-01A-11R-A13Q-07  TCGA-PL-A8LV-01A-21R-A41B-07  \\\n",
       "SCGB2A2                      1.040158                      1.366776   \n",
       "SCGB1D2                      1.080194                      1.010610   \n",
       "TFF1                         3.840113                      1.581678   \n",
       "PIP                          2.850932                      2.059863   \n",
       "CPB1                         3.365267                      0.078476   \n",
       "\n",
       "         TCGA-A2-A4RX-01A-11R-A266-07  TCGA-E9-A243-01A-21R-A169-07  \\\n",
       "SCGB2A2                      1.422622                      0.071430   \n",
       "SCGB1D2                      0.682176                      0.014231   \n",
       "TFF1                         2.432916                      4.572109   \n",
       "PIP                          3.522624                      7.697993   \n",
       "CPB1                         0.308187                      0.272251   \n",
       "\n",
       "         TCGA-A8-A07E-01A-11R-A034-07  TCGA-E9-A228-01A-31R-A157-07  \n",
       "SCGB2A2                      4.058771                      0.254701  \n",
       "SCGB1D2                      2.881080                      1.276865  \n",
       "TFF1                         7.663364                      9.894923  \n",
       "PIP                          5.841955                      0.440105  \n",
       "CPB1                         0.153975                     11.418619  \n",
       "\n",
       "[5 rows x 1102 columns]"
      ]
     },
     "execution_count": 78,
     "metadata": {},
     "output_type": "execute_result"
    }
   ],
   "source": [
    "f.columns=['-'.join(f.columns[i].split('.')) for i in range(f.shape[1])]\n",
    "f.head()"
   ]
  },
  {
   "cell_type": "markdown",
   "metadata": {},
   "source": [
    "*__Size of this matrix is__: **5000 gene features** (rows) X **1102 patient tumors** (columns)*"
   ]
  },
  {
   "cell_type": "code",
   "execution_count": 79,
   "metadata": {},
   "outputs": [
    {
     "data": {
      "text/plain": [
       "(5000, 1102)"
      ]
     },
     "execution_count": 79,
     "metadata": {},
     "output_type": "execute_result"
    }
   ],
   "source": [
    "f.shape"
   ]
  },
  {
   "cell_type": "markdown",
   "metadata": {},
   "source": [
    "# Unsupervised learning from python's scikit-learn package"
   ]
  },
  {
   "cell_type": "markdown",
   "metadata": {},
   "source": [
    "Resource: https://scikit-learn.org/stable/unsupervised_learning.html\n",
    "_____"
   ]
  },
  {
   "cell_type": "markdown",
   "metadata": {},
   "source": [
    "### Lets look at PCA plot of our data"
   ]
  },
  {
   "cell_type": "code",
   "execution_count": 26,
   "metadata": {},
   "outputs": [],
   "source": [
    "from sklearn.decomposition import PCA"
   ]
  },
  {
   "cell_type": "code",
   "execution_count": 52,
   "metadata": {},
   "outputs": [
    {
     "data": {
      "text/plain": [
       "(1102, 2)"
      ]
     },
     "execution_count": 52,
     "metadata": {},
     "output_type": "execute_result"
    }
   ],
   "source": [
    "pca = PCA(n_components=2)\n",
    "f_PCA_DF=df(data=pca.fit_transform(f.T),columns=['PC1','PC2'])\n",
    "f_PCA_DF.shape"
   ]
  },
  {
   "cell_type": "code",
   "execution_count": 53,
   "metadata": {},
   "outputs": [
    {
     "data": {
      "text/html": [
       "<div>\n",
       "<style scoped>\n",
       "    .dataframe tbody tr th:only-of-type {\n",
       "        vertical-align: middle;\n",
       "    }\n",
       "\n",
       "    .dataframe tbody tr th {\n",
       "        vertical-align: top;\n",
       "    }\n",
       "\n",
       "    .dataframe thead th {\n",
       "        text-align: right;\n",
       "    }\n",
       "</style>\n",
       "<table border=\"1\" class=\"dataframe\">\n",
       "  <thead>\n",
       "    <tr style=\"text-align: right;\">\n",
       "      <th></th>\n",
       "      <th>PC1</th>\n",
       "      <th>PC2</th>\n",
       "    </tr>\n",
       "  </thead>\n",
       "  <tbody>\n",
       "    <tr>\n",
       "      <th>0</th>\n",
       "      <td>-35.994631</td>\n",
       "      <td>19.467807</td>\n",
       "    </tr>\n",
       "    <tr>\n",
       "      <th>1</th>\n",
       "      <td>-15.690792</td>\n",
       "      <td>-9.026793</td>\n",
       "    </tr>\n",
       "    <tr>\n",
       "      <th>2</th>\n",
       "      <td>53.849633</td>\n",
       "      <td>29.998110</td>\n",
       "    </tr>\n",
       "    <tr>\n",
       "      <th>3</th>\n",
       "      <td>40.998438</td>\n",
       "      <td>-10.303355</td>\n",
       "    </tr>\n",
       "    <tr>\n",
       "      <th>4</th>\n",
       "      <td>-14.346454</td>\n",
       "      <td>-18.316678</td>\n",
       "    </tr>\n",
       "  </tbody>\n",
       "</table>\n",
       "</div>"
      ],
      "text/plain": [
       "         PC1        PC2\n",
       "0 -35.994631  19.467807\n",
       "1 -15.690792  -9.026793\n",
       "2  53.849633  29.998110\n",
       "3  40.998438 -10.303355\n",
       "4 -14.346454 -18.316678"
      ]
     },
     "execution_count": 53,
     "metadata": {},
     "output_type": "execute_result"
    }
   ],
   "source": [
    "f_PCA_DF.head()"
   ]
  },
  {
   "cell_type": "markdown",
   "metadata": {},
   "source": [
    "### Often PCA is affected by the different scale of features. \n",
    "*Although in my previous preprocessing I did quantile normalization, I'm going to try scaling function from sklearn for **due-diligence process**. This is often required during big-data analysis*"
   ]
  },
  {
   "cell_type": "code",
   "execution_count": 62,
   "metadata": {},
   "outputs": [
    {
     "data": {
      "text/html": [
       "<div>\n",
       "<style scoped>\n",
       "    .dataframe tbody tr th:only-of-type {\n",
       "        vertical-align: middle;\n",
       "    }\n",
       "\n",
       "    .dataframe tbody tr th {\n",
       "        vertical-align: top;\n",
       "    }\n",
       "\n",
       "    .dataframe thead th {\n",
       "        text-align: right;\n",
       "    }\n",
       "</style>\n",
       "<table border=\"1\" class=\"dataframe\">\n",
       "  <thead>\n",
       "    <tr style=\"text-align: right;\">\n",
       "      <th></th>\n",
       "      <th>PC1</th>\n",
       "      <th>PC2</th>\n",
       "    </tr>\n",
       "  </thead>\n",
       "  <tbody>\n",
       "    <tr>\n",
       "      <th>0</th>\n",
       "      <td>-31.085156</td>\n",
       "      <td>-18.573676</td>\n",
       "    </tr>\n",
       "    <tr>\n",
       "      <th>1</th>\n",
       "      <td>-23.041379</td>\n",
       "      <td>19.793792</td>\n",
       "    </tr>\n",
       "    <tr>\n",
       "      <th>2</th>\n",
       "      <td>59.047275</td>\n",
       "      <td>-16.470325</td>\n",
       "    </tr>\n",
       "    <tr>\n",
       "      <th>3</th>\n",
       "      <td>40.666455</td>\n",
       "      <td>6.196306</td>\n",
       "    </tr>\n",
       "    <tr>\n",
       "      <th>4</th>\n",
       "      <td>-16.585442</td>\n",
       "      <td>3.002578</td>\n",
       "    </tr>\n",
       "  </tbody>\n",
       "</table>\n",
       "</div>"
      ],
      "text/plain": [
       "         PC1        PC2\n",
       "0 -31.085156 -18.573676\n",
       "1 -23.041379  19.793792\n",
       "2  59.047275 -16.470325\n",
       "3  40.666455   6.196306\n",
       "4 -16.585442   3.002578"
      ]
     },
     "execution_count": 62,
     "metadata": {},
     "output_type": "execute_result"
    }
   ],
   "source": [
    "from sklearn.preprocessing import StandardScaler\n",
    "f_PCA_DF1=df(data=pca.fit_transform(StandardScaler().fit_transform(f.T)),columns=['PC1','PC2'])\n",
    "f_PCA_DF1.head()"
   ]
  },
  {
   "cell_type": "markdown",
   "metadata": {},
   "source": [
    "### It appears that quantile normalization process in my RNASeq preprocessing step was pretty good. This gives us almost same results"
   ]
  },
  {
   "cell_type": "code",
   "execution_count": 64,
   "metadata": {},
   "outputs": [
    {
     "data": {
      "text/plain": [
       "<matplotlib.legend.Legend at 0x7fe6d3f01dd8>"
      ]
     },
     "execution_count": 64,
     "metadata": {},
     "output_type": "execute_result"
    },
    {
     "data": {
      "image/png": "[encoded data removed]",
      "text/plain": [
       "<Figure size 576x576 with 1 Axes>"
      ]
     },
     "metadata": {
      "needs_background": "light"
     },
     "output_type": "display_data"
    }
   ],
   "source": [
    "fig = plt.figure(figsize = (8,8))\n",
    "ax = fig.add_subplot(1,1,1) \n",
    "ax.set_xlabel('PC1', fontsize = 12)\n",
    "ax.set_ylabel('PC2', fontsize = 12)\n",
    "ax.set_title('TCGA RNASeq for Breast Cancer patients visualzed by PCA', fontsize = 16)\n",
    "ax.scatter(f_PCA_DF.PC1,f_PCA_DF.PC2,color=\"black\")\n",
    "ax.scatter(f_PCA_DF1.PC1,f_PCA_DF1.PC2,color=\"purple\")\n",
    "ax.legend([\"untransformed\",\"transformed\"])"
   ]
  },
  {
   "cell_type": "markdown",
   "metadata": {},
   "source": [
    "## Lets determine the optimum number of feature sets to begin with optimizing number of features"
   ]
  },
  {
   "cell_type": "markdown",
   "metadata": {},
   "source": [
    "### First I'm going to change the number of features. These features are currently ranked in descending order of variances.\n",
    "**Variances allow us to separate patients into different identifyable cohorts. High variance features will have good separation and detection capabilities to identify patient segments**\n",
    "\n",
    "*We can see the number of features used did not visually affect the number of possibly identifyable clusters here*"
   ]
  },
  {
   "cell_type": "code",
   "execution_count": 80,
   "metadata": {},
   "outputs": [],
   "source": [
    "def PCA_nR(f,nR):\n",
    "    pca = PCA(n_components=2)\n",
    "    f_PCA_DF=df(data=pca.fit_transform(f.iloc[1:nR,:].T),columns=['PC1','PC2'])\n",
    "    return(f_PCA_DF)"
   ]
  },
  {
   "cell_type": "code",
   "execution_count": 86,
   "metadata": {},
   "outputs": [
    {
     "data": {
      "image/png": "[encoded data removed]",
      "text/plain": [
       "<Figure size 720x720 with 4 Axes>"
      ]
     },
     "metadata": {
      "needs_background": "light"
     },
     "output_type": "display_data"
    }
   ],
   "source": [
    "colss=['black','red','purple','blue']\n",
    "nms=['5,000 features','2,500 features','1,250 features','675 features']\n",
    "nR=[5000,2500,1250,675]\n",
    "fig = plt.figure(figsize = (10,10))\n",
    "\n",
    "for i in range(4):\n",
    "    ax = fig.add_subplot(2,2,i+1) \n",
    "    ax.set_xlabel('PC1', fontsize = 12)\n",
    "    ax.set_ylabel('PC2', fontsize = 12)\n",
    "    ax.set_title('PCA using: '+nms[i], fontsize = 12)\n",
    "    f_PCA_DF=PCA_nR(f,nR[i])\n",
    "    ax.scatter(f_PCA_DF.PC1,f_PCA_DF.PC2,color=colss[i])"
   ]
  },
  {
   "cell_type": "markdown",
   "metadata": {},
   "source": [
    "### Gasussian mixture model\n",
    "*This statistical model assumes that the mixture is generated by a finite number of guassian distributions with unknown number of parameters*\n",
    "\n",
    "*...coming soon*"
   ]
  }
 ],
 "metadata": {
  "kernelspec": {
   "display_name": "Python 3",
   "language": "python",
   "name": "python3"
  },
  "language_info": {
   "codemirror_mode": {
    "name": "ipython",
    "version": 3
   },
   "file_extension": ".py",
   "mimetype": "text/x-python",
   "name": "python",
   "nbconvert_exporter": "python",
   "pygments_lexer": "ipython3",
   "version": "3.7.3"
  }
 },
 "nbformat": 4,
 "nbformat_minor": 2
}
